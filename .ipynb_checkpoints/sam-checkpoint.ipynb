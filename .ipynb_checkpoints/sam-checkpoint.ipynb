{
 "cells": [
  {
   "cell_type": "markdown",
   "metadata": {},
   "source": [
    "# Automatically Generating Object Masks with SAM\n",
    "#### By Norsang and Tsewang"
   ]
  },
  {
   "cell_type": "markdown",
   "metadata": {},
   "source": [
    "### Don't Run if you already used \"pip install -r requirements.txt\""
   ]
  },
  {
   "cell_type": "code",
   "execution_count": 10,
   "metadata": {},
   "outputs": [],
   "source": [
    "# %pip install segment-geospatial leafmap localtileserver"
   ]
  },
  {
   "cell_type": "markdown",
   "metadata": {},
   "source": [
    "### Importing installed modules"
   ]
  },
  {
   "cell_type": "code",
   "execution_count": 11,
   "metadata": {},
   "outputs": [],
   "source": [
    "import os\n",
    "import leafmap\n",
    "from samgeo import SamGeo, show_image, download_file, overlay_images, tms_to_geotiff"
   ]
  },
  {
   "cell_type": "markdown",
   "metadata": {},
   "source": [
    "### Interactive Map"
   ]
  },
  {
   "cell_type": "code",
   "execution_count": 12,
   "metadata": {},
   "outputs": [
    {
     "data": {
      "application/vnd.jupyter.widget-view+json": {
       "model_id": "a6c630bb62814daab6d64116976e0a28",
       "version_major": 2,
       "version_minor": 0
      },
      "text/plain": [
       "Map(center=[40.74412533737199, -74.17897593033956], controls=(ZoomControl(options=['position', 'zoom_in_text',…"
      ]
     },
     "execution_count": 12,
     "metadata": {},
     "output_type": "execute_result"
    }
   ],
   "source": [
    "# NJIT coordinates\n",
    "m = leafmap.Map(center=[40.74412533737199, -74.17897593033956], zoom=17, height=\"800px\")\n",
    "\n",
    "m.add_basemap(\"SATELLITE\")\n",
    "m"
   ]
  },
  {
   "cell_type": "code",
   "execution_count": 13,
   "metadata": {},
   "outputs": [],
   "source": [
    "if m.user_roi_bounds() is not None:\n",
    "    bbox = m.user_roi_bounds()\n",
    "else:\n",
    "    bbox = [-74.1829, 40.7402, -74.1744, 40.7443]"
   ]
  },
  {
   "cell_type": "markdown",
   "metadata": {},
   "source": [
    "### Find Coordinates"
   ]
  },
  {
   "cell_type": "code",
   "execution_count": 14,
   "metadata": {},
   "outputs": [],
   "source": [
    "m.user_roi_bounds()"
   ]
  },
  {
   "cell_type": "markdown",
   "metadata": {},
   "source": [
    "### Download sample image"
   ]
  },
  {
   "cell_type": "code",
   "execution_count": 17,
   "metadata": {},
   "outputs": [
    {
     "name": "stdout",
     "output_type": "stream",
     "text": [
      "Collecting GDAL\n",
      "  Downloading GDAL-3.8.5.tar.gz (802 kB)\n",
      "     ---------------------------------------- 0.0/802.6 kB ? eta -:--:--\n",
      "     ---------------------------------------- 0.0/802.6 kB ? eta -:--:--\n",
      "     ---------------------------------------- 0.0/802.6 kB ? eta -:--:--\n",
      "      --------------------------------------- 10.2/802.6 kB ? eta -:--:--\n",
      "      ------------------------------------ 20.5/802.6 kB 162.5 kB/s eta 0:00:05\n",
      "     - ----------------------------------- 30.7/802.6 kB 163.8 kB/s eta 0:00:05\n",
      "     -- ---------------------------------- 61.4/802.6 kB 297.7 kB/s eta 0:00:03\n",
      "     ----- ------------------------------ 112.6/802.6 kB 467.6 kB/s eta 0:00:02\n",
      "     ------ ----------------------------- 153.6/802.6 kB 538.9 kB/s eta 0:00:02\n",
      "     ---------- ------------------------- 225.3/802.6 kB 687.0 kB/s eta 0:00:01\n",
      "     ------------ ----------------------- 276.5/802.6 kB 739.6 kB/s eta 0:00:01\n",
      "     -------------- --------------------- 317.4/802.6 kB 754.8 kB/s eta 0:00:01\n",
      "     ---------------- ------------------- 368.6/802.6 kB 789.4 kB/s eta 0:00:01\n",
      "     --------------------- -------------- 471.0/802.6 kB 921.6 kB/s eta 0:00:01\n",
      "     ----------------------- ------------ 532.5/802.6 kB 954.7 kB/s eta 0:00:01\n",
      "     -------------------------- --------- 583.7/802.6 kB 965.4 kB/s eta 0:00:01\n",
      "     ---------------------------- ------- 645.1/802.6 kB 990.5 kB/s eta 0:00:01\n",
      "     ------------------------------- ---- 696.3/802.6 kB 997.2 kB/s eta 0:00:01\n",
      "     ----------------------------------- -- 747.5/802.6 kB 1.0 MB/s eta 0:00:01\n",
      "     -------------------------------------- 802.6/802.6 kB 1.0 MB/s eta 0:00:00\n",
      "  Preparing metadata (setup.py): started\n",
      "  Preparing metadata (setup.py): finished with status 'done'\n",
      "Building wheels for collected packages: GDAL\n",
      "  Building wheel for GDAL (setup.py): started\n",
      "  Building wheel for GDAL (setup.py): finished with status 'error'\n",
      "  Running setup.py clean for GDAL\n",
      "Failed to build GDAL\n",
      "Note: you may need to restart the kernel to use updated packages.\n"
     ]
    },
    {
     "name": "stderr",
     "output_type": "stream",
     "text": [
      "  error: subprocess-exited-with-error\n",
      "  \n",
      "  × python setup.py bdist_wheel did not run successfully.\n",
      "  │ exit code: 1\n",
      "  ╰─> [146 lines of output]\n",
      "      running bdist_wheel\n",
      "      running build\n",
      "      running build_py\n",
      "      creating build\n",
      "      creating build\\lib.win-amd64-cpython-312\n",
      "      creating build\\lib.win-amd64-cpython-312\\osgeo\n",
      "      copying osgeo\\gdal.py -> build\\lib.win-amd64-cpython-312\\osgeo\n",
      "      copying osgeo\\gdalconst.py -> build\\lib.win-amd64-cpython-312\\osgeo\n",
      "      copying osgeo\\gdalnumeric.py -> build\\lib.win-amd64-cpython-312\\osgeo\n",
      "      copying osgeo\\gdal_array.py -> build\\lib.win-amd64-cpython-312\\osgeo\n",
      "      copying osgeo\\gnm.py -> build\\lib.win-amd64-cpython-312\\osgeo\n",
      "      copying osgeo\\ogr.py -> build\\lib.win-amd64-cpython-312\\osgeo\n",
      "      copying osgeo\\osr.py -> build\\lib.win-amd64-cpython-312\\osgeo\n",
      "      copying osgeo\\__init__.py -> build\\lib.win-amd64-cpython-312\\osgeo\n",
      "      creating build\\lib.win-amd64-cpython-312\\osgeo_utils\n",
      "      copying gdal-utils\\osgeo_utils\\gdal2tiles.py -> build\\lib.win-amd64-cpython-312\\osgeo_utils\n",
      "      copying gdal-utils\\osgeo_utils\\gdal2xyz.py -> build\\lib.win-amd64-cpython-312\\osgeo_utils\n",
      "      copying gdal-utils\\osgeo_utils\\gdalattachpct.py -> build\\lib.win-amd64-cpython-312\\osgeo_utils\n",
      "      copying gdal-utils\\osgeo_utils\\gdalcompare.py -> build\\lib.win-amd64-cpython-312\\osgeo_utils\n",
      "      copying gdal-utils\\osgeo_utils\\gdalmove.py -> build\\lib.win-amd64-cpython-312\\osgeo_utils\n",
      "      copying gdal-utils\\osgeo_utils\\gdal_calc.py -> build\\lib.win-amd64-cpython-312\\osgeo_utils\n",
      "      copying gdal-utils\\osgeo_utils\\gdal_edit.py -> build\\lib.win-amd64-cpython-312\\osgeo_utils\n",
      "      copying gdal-utils\\osgeo_utils\\gdal_fillnodata.py -> build\\lib.win-amd64-cpython-312\\osgeo_utils\n",
      "      copying gdal-utils\\osgeo_utils\\gdal_merge.py -> build\\lib.win-amd64-cpython-312\\osgeo_utils\n",
      "      copying gdal-utils\\osgeo_utils\\gdal_pansharpen.py -> build\\lib.win-amd64-cpython-312\\osgeo_utils\n",
      "      copying gdal-utils\\osgeo_utils\\gdal_polygonize.py -> build\\lib.win-amd64-cpython-312\\osgeo_utils\n",
      "      copying gdal-utils\\osgeo_utils\\gdal_proximity.py -> build\\lib.win-amd64-cpython-312\\osgeo_utils\n",
      "      copying gdal-utils\\osgeo_utils\\gdal_retile.py -> build\\lib.win-amd64-cpython-312\\osgeo_utils\n",
      "      copying gdal-utils\\osgeo_utils\\gdal_sieve.py -> build\\lib.win-amd64-cpython-312\\osgeo_utils\n",
      "      copying gdal-utils\\osgeo_utils\\ogrmerge.py -> build\\lib.win-amd64-cpython-312\\osgeo_utils\n",
      "      copying gdal-utils\\osgeo_utils\\ogr_layer_algebra.py -> build\\lib.win-amd64-cpython-312\\osgeo_utils\n",
      "      copying gdal-utils\\osgeo_utils\\pct2rgb.py -> build\\lib.win-amd64-cpython-312\\osgeo_utils\n",
      "      copying gdal-utils\\osgeo_utils\\rgb2pct.py -> build\\lib.win-amd64-cpython-312\\osgeo_utils\n",
      "      copying gdal-utils\\osgeo_utils\\__init__.py -> build\\lib.win-amd64-cpython-312\\osgeo_utils\n",
      "      creating build\\lib.win-amd64-cpython-312\\osgeo_utils\\auxiliary\n",
      "      copying gdal-utils\\osgeo_utils\\auxiliary\\array_util.py -> build\\lib.win-amd64-cpython-312\\osgeo_utils\\auxiliary\n",
      "      copying gdal-utils\\osgeo_utils\\auxiliary\\base.py -> build\\lib.win-amd64-cpython-312\\osgeo_utils\\auxiliary\n",
      "      copying gdal-utils\\osgeo_utils\\auxiliary\\batch_creator.py -> build\\lib.win-amd64-cpython-312\\osgeo_utils\\auxiliary\n",
      "      copying gdal-utils\\osgeo_utils\\auxiliary\\color_palette.py -> build\\lib.win-amd64-cpython-312\\osgeo_utils\\auxiliary\n",
      "      copying gdal-utils\\osgeo_utils\\auxiliary\\color_table.py -> build\\lib.win-amd64-cpython-312\\osgeo_utils\\auxiliary\n",
      "      copying gdal-utils\\osgeo_utils\\auxiliary\\extent_util.py -> build\\lib.win-amd64-cpython-312\\osgeo_utils\\auxiliary\n",
      "      copying gdal-utils\\osgeo_utils\\auxiliary\\gdal_argparse.py -> build\\lib.win-amd64-cpython-312\\osgeo_utils\\auxiliary\n",
      "      copying gdal-utils\\osgeo_utils\\auxiliary\\numpy_util.py -> build\\lib.win-amd64-cpython-312\\osgeo_utils\\auxiliary\n",
      "      copying gdal-utils\\osgeo_utils\\auxiliary\\osr_util.py -> build\\lib.win-amd64-cpython-312\\osgeo_utils\\auxiliary\n",
      "      copying gdal-utils\\osgeo_utils\\auxiliary\\progress.py -> build\\lib.win-amd64-cpython-312\\osgeo_utils\\auxiliary\n",
      "      copying gdal-utils\\osgeo_utils\\auxiliary\\raster_creation.py -> build\\lib.win-amd64-cpython-312\\osgeo_utils\\auxiliary\n",
      "      copying gdal-utils\\osgeo_utils\\auxiliary\\rectangle.py -> build\\lib.win-amd64-cpython-312\\osgeo_utils\\auxiliary\n",
      "      copying gdal-utils\\osgeo_utils\\auxiliary\\util.py -> build\\lib.win-amd64-cpython-312\\osgeo_utils\\auxiliary\n",
      "      copying gdal-utils\\osgeo_utils\\auxiliary\\__init__.py -> build\\lib.win-amd64-cpython-312\\osgeo_utils\\auxiliary\n",
      "      creating build\\lib.win-amd64-cpython-312\\osgeo_utils\\samples\n",
      "      copying gdal-utils\\osgeo_utils\\samples\\assemblepoly.py -> build\\lib.win-amd64-cpython-312\\osgeo_utils\\samples\n",
      "      copying gdal-utils\\osgeo_utils\\samples\\build_jp2_from_xml.py -> build\\lib.win-amd64-cpython-312\\osgeo_utils\\samples\n",
      "      copying gdal-utils\\osgeo_utils\\samples\\classify.py -> build\\lib.win-amd64-cpython-312\\osgeo_utils\\samples\n",
      "      copying gdal-utils\\osgeo_utils\\samples\\crs2crs2grid.py -> build\\lib.win-amd64-cpython-312\\osgeo_utils\\samples\n",
      "      copying gdal-utils\\osgeo_utils\\samples\\densify.py -> build\\lib.win-amd64-cpython-312\\osgeo_utils\\samples\n",
      "      copying gdal-utils\\osgeo_utils\\samples\\dump_jp2.py -> build\\lib.win-amd64-cpython-312\\osgeo_utils\\samples\n",
      "      copying gdal-utils\\osgeo_utils\\samples\\epsg_tr.py -> build\\lib.win-amd64-cpython-312\\osgeo_utils\\samples\n",
      "      copying gdal-utils\\osgeo_utils\\samples\\esri2wkt.py -> build\\lib.win-amd64-cpython-312\\osgeo_utils\\samples\n",
      "      copying gdal-utils\\osgeo_utils\\samples\\fft.py -> build\\lib.win-amd64-cpython-312\\osgeo_utils\\samples\n",
      "      copying gdal-utils\\osgeo_utils\\samples\\fix_gpkg.py -> build\\lib.win-amd64-cpython-312\\osgeo_utils\\samples\n",
      "      copying gdal-utils\\osgeo_utils\\samples\\gcps2ogr.py -> build\\lib.win-amd64-cpython-312\\osgeo_utils\\samples\n",
      "      copying gdal-utils\\osgeo_utils\\samples\\gcps2vec.py -> build\\lib.win-amd64-cpython-312\\osgeo_utils\\samples\n",
      "      copying gdal-utils\\osgeo_utils\\samples\\gcps2wld.py -> build\\lib.win-amd64-cpython-312\\osgeo_utils\\samples\n",
      "      copying gdal-utils\\osgeo_utils\\samples\\gdal2grd.py -> build\\lib.win-amd64-cpython-312\\osgeo_utils\\samples\n",
      "      copying gdal-utils\\osgeo_utils\\samples\\gdalchksum.py -> build\\lib.win-amd64-cpython-312\\osgeo_utils\\samples\n",
      "      copying gdal-utils\\osgeo_utils\\samples\\gdalcopyproj.py -> build\\lib.win-amd64-cpython-312\\osgeo_utils\\samples\n",
      "      copying gdal-utils\\osgeo_utils\\samples\\gdalfilter.py -> build\\lib.win-amd64-cpython-312\\osgeo_utils\\samples\n",
      "      copying gdal-utils\\osgeo_utils\\samples\\gdalident.py -> build\\lib.win-amd64-cpython-312\\osgeo_utils\\samples\n",
      "      copying gdal-utils\\osgeo_utils\\samples\\gdalimport.py -> build\\lib.win-amd64-cpython-312\\osgeo_utils\\samples\n",
      "      copying gdal-utils\\osgeo_utils\\samples\\gdalinfo.py -> build\\lib.win-amd64-cpython-312\\osgeo_utils\\samples\n",
      "      copying gdal-utils\\osgeo_utils\\samples\\gdallocationinfo.py -> build\\lib.win-amd64-cpython-312\\osgeo_utils\\samples\n",
      "      copying gdal-utils\\osgeo_utils\\samples\\gdal_auth.py -> build\\lib.win-amd64-cpython-312\\osgeo_utils\\samples\n",
      "      copying gdal-utils\\osgeo_utils\\samples\\gdal_cp.py -> build\\lib.win-amd64-cpython-312\\osgeo_utils\\samples\n",
      "      copying gdal-utils\\osgeo_utils\\samples\\gdal_create_pdf.py -> build\\lib.win-amd64-cpython-312\\osgeo_utils\\samples\n",
      "      copying gdal-utils\\osgeo_utils\\samples\\gdal_ls.py -> build\\lib.win-amd64-cpython-312\\osgeo_utils\\samples\n",
      "      copying gdal-utils\\osgeo_utils\\samples\\gdal_lut.py -> build\\lib.win-amd64-cpython-312\\osgeo_utils\\samples\n",
      "      copying gdal-utils\\osgeo_utils\\samples\\gdal_mkdir.py -> build\\lib.win-amd64-cpython-312\\osgeo_utils\\samples\n",
      "      copying gdal-utils\\osgeo_utils\\samples\\gdal_remove_towgs84.py -> build\\lib.win-amd64-cpython-312\\osgeo_utils\\samples\n",
      "      copying gdal-utils\\osgeo_utils\\samples\\gdal_rm.py -> build\\lib.win-amd64-cpython-312\\osgeo_utils\\samples\n",
      "      copying gdal-utils\\osgeo_utils\\samples\\gdal_rmdir.py -> build\\lib.win-amd64-cpython-312\\osgeo_utils\\samples\n",
      "      copying gdal-utils\\osgeo_utils\\samples\\gdal_vrtmerge.py -> build\\lib.win-amd64-cpython-312\\osgeo_utils\\samples\n",
      "      copying gdal-utils\\osgeo_utils\\samples\\get_soundg.py -> build\\lib.win-amd64-cpython-312\\osgeo_utils\\samples\n",
      "      copying gdal-utils\\osgeo_utils\\samples\\histrep.py -> build\\lib.win-amd64-cpython-312\\osgeo_utils\\samples\n",
      "      copying gdal-utils\\osgeo_utils\\samples\\hsv_merge.py -> build\\lib.win-amd64-cpython-312\\osgeo_utils\\samples\n",
      "      copying gdal-utils\\osgeo_utils\\samples\\jpeg_in_tiff_extract.py -> build\\lib.win-amd64-cpython-312\\osgeo_utils\\samples\n",
      "      copying gdal-utils\\osgeo_utils\\samples\\load2odbc.py -> build\\lib.win-amd64-cpython-312\\osgeo_utils\\samples\n",
      "      copying gdal-utils\\osgeo_utils\\samples\\loslas2ntv2.py -> build\\lib.win-amd64-cpython-312\\osgeo_utils\\samples\n",
      "      copying gdal-utils\\osgeo_utils\\samples\\magphase.py -> build\\lib.win-amd64-cpython-312\\osgeo_utils\\samples\n",
      "      copying gdal-utils\\osgeo_utils\\samples\\make_fuzzer_friendly_archive.py -> build\\lib.win-amd64-cpython-312\\osgeo_utils\\samples\n",
      "      copying gdal-utils\\osgeo_utils\\samples\\mkgraticule.py -> build\\lib.win-amd64-cpython-312\\osgeo_utils\\samples\n",
      "      copying gdal-utils\\osgeo_utils\\samples\\ogr2ogr.py -> build\\lib.win-amd64-cpython-312\\osgeo_utils\\samples\n",
      "      copying gdal-utils\\osgeo_utils\\samples\\ogr2vrt.py -> build\\lib.win-amd64-cpython-312\\osgeo_utils\\samples\n",
      "      copying gdal-utils\\osgeo_utils\\samples\\ogrinfo.py -> build\\lib.win-amd64-cpython-312\\osgeo_utils\\samples\n",
      "      copying gdal-utils\\osgeo_utils\\samples\\ogrupdate.py -> build\\lib.win-amd64-cpython-312\\osgeo_utils\\samples\n",
      "      copying gdal-utils\\osgeo_utils\\samples\\ogr_build_junction_table.py -> build\\lib.win-amd64-cpython-312\\osgeo_utils\\samples\n",
      "      copying gdal-utils\\osgeo_utils\\samples\\ogr_dispatch.py -> build\\lib.win-amd64-cpython-312\\osgeo_utils\\samples\n",
      "      copying gdal-utils\\osgeo_utils\\samples\\rel.py -> build\\lib.win-amd64-cpython-312\\osgeo_utils\\samples\n",
      "      copying gdal-utils\\osgeo_utils\\samples\\tigerpoly.py -> build\\lib.win-amd64-cpython-312\\osgeo_utils\\samples\n",
      "      copying gdal-utils\\osgeo_utils\\samples\\tile_extent_from_raster.py -> build\\lib.win-amd64-cpython-312\\osgeo_utils\\samples\n",
      "      copying gdal-utils\\osgeo_utils\\samples\\tolatlong.py -> build\\lib.win-amd64-cpython-312\\osgeo_utils\\samples\n",
      "      copying gdal-utils\\osgeo_utils\\samples\\validate_cloud_optimized_geotiff.py -> build\\lib.win-amd64-cpython-312\\osgeo_utils\\samples\n",
      "      copying gdal-utils\\osgeo_utils\\samples\\validate_geoparquet.py -> build\\lib.win-amd64-cpython-312\\osgeo_utils\\samples\n",
      "      copying gdal-utils\\osgeo_utils\\samples\\validate_gpkg.py -> build\\lib.win-amd64-cpython-312\\osgeo_utils\\samples\n",
      "      copying gdal-utils\\osgeo_utils\\samples\\validate_jp2.py -> build\\lib.win-amd64-cpython-312\\osgeo_utils\\samples\n",
      "      copying gdal-utils\\osgeo_utils\\samples\\val_repl.py -> build\\lib.win-amd64-cpython-312\\osgeo_utils\\samples\n",
      "      copying gdal-utils\\osgeo_utils\\samples\\vec_tr.py -> build\\lib.win-amd64-cpython-312\\osgeo_utils\\samples\n",
      "      copying gdal-utils\\osgeo_utils\\samples\\vec_tr_spat.py -> build\\lib.win-amd64-cpython-312\\osgeo_utils\\samples\n",
      "      copying gdal-utils\\osgeo_utils\\samples\\wcs_virtds_params.py -> build\\lib.win-amd64-cpython-312\\osgeo_utils\\samples\n",
      "      copying gdal-utils\\osgeo_utils\\samples\\__init__.py -> build\\lib.win-amd64-cpython-312\\osgeo_utils\\samples\n",
      "      running build_ext\n",
      "      building 'osgeo._gdal' extension\n",
      "      building 'osgeo._gdalconst' extension\n",
      "      building 'osgeo._gdal_array' extension\n",
      "      building 'osgeo._gnm' extension\n",
      "      building 'osgeo._osr' extension\n",
      "      building 'osgeo._ogr' extension\n",
      "      creating build\\temp.win-amd64-cpython-312\n",
      "      creating build\\temp.win-amd64-cpython-312\n",
      "      creating build\\temp.win-amd64-cpython-312\\Release\n",
      "      creating build\\temp.win-amd64-cpython-312\\Release\n",
      "      creating build\\temp.win-amd64-cpython-312\\Release\n",
      "      creating build\\temp.win-amd64-cpython-312\\Release\n",
      "      creating build\\temp.win-amd64-cpython-312\\Release\\extensions\n",
      "      creating build\\temp.win-amd64-cpython-312\\Release\\extensions\n",
      "      creating build\\temp.win-amd64-cpython-312\\Release\\extensions\n",
      "      creating build\\temp.win-amd64-cpython-312\\Release\\extensions\n",
      "      creating build\\temp.win-amd64-cpython-312\\Release\\extensions\n",
      "      \"C:\\Program Files\\Microsoft Visual Studio\\2022\\Community\\VC\\Tools\\MSVC\\14.39.33519\\bin\\HostX86\\x64\\cl.exe\" /c /nologo /O2 /W3 /GL /DNDEBUG /MD -Ic:\\Users\\theno\\AppData\\Local\\Programs\\Python\\Python312\\include -Ic:\\Users\\theno\\AppData\\Local\\Programs\\Python\\Python312\\Include -Ic:\\Users\\theno\\AppData\\Local\\Programs\\Python\\Python312\\Lib\\site-packages\\numpy\\core\\include \"-IC:\\Program Files\\Microsoft Visual Studio\\2022\\Community\\VC\\Tools\\MSVC\\14.39.33519\\include\" \"-IC:\\Program Files\\Microsoft Visual Studio\\2022\\Community\\VC\\Auxiliary\\VS\\include\" \"-IC:\\Program Files (x86)\\Windows Kits\\10\\include\\10.0.22000.0\\ucrt\" \"-IC:\\Program Files (x86)\\Windows Kits\\10\\\\include\\10.0.22000.0\\\\um\" \"-IC:\\Program Files (x86)\\Windows Kits\\10\\\\include\\10.0.22000.0\\\\shared\" \"-IC:\\Program Files (x86)\\Windows Kits\\10\\\\include\\10.0.22000.0\\\\winrt\" \"-IC:\\Program Files (x86)\\Windows Kits\\10\\\\include\\10.0.22000.0\\\\cppwinrt\" /EHsc /Tpextensions/gdal_array_wrap.cpp /Fobuild\\temp.win-amd64-cpython-312\\Release\\extensions/gdal_array_wrap.obj\n",
      "      \"C:\\Program Files\\Microsoft Visual Studio\\2022\\Community\\VC\\Tools\\MSVC\\14.39.33519\\bin\\HostX86\\x64\\cl.exe\" /c /nologo /O2 /W3 /GL /DNDEBUG /MD -Ic:\\Users\\theno\\AppData\\Local\\Programs\\Python\\Python312\\include -Ic:\\Users\\theno\\AppData\\Local\\Programs\\Python\\Python312\\Include -Ic:\\Users\\theno\\AppData\\Local\\Programs\\Python\\Python312\\Lib\\site-packages\\numpy\\core\\include \"-IC:\\Program Files\\Microsoft Visual Studio\\2022\\Community\\VC\\Tools\\MSVC\\14.39.33519\\include\" \"-IC:\\Program Files\\Microsoft Visual Studio\\2022\\Community\\VC\\Auxiliary\\VS\\include\" \"-IC:\\Program Files (x86)\\Windows Kits\\10\\include\\10.0.22000.0\\ucrt\" \"-IC:\\Program Files (x86)\\Windows Kits\\10\\\\include\\10.0.22000.0\\\\um\" \"-IC:\\Program Files (x86)\\Windows Kits\\10\\\\include\\10.0.22000.0\\\\shared\" \"-IC:\\Program Files (x86)\\Windows Kits\\10\\\\include\\10.0.22000.0\\\\winrt\" \"-IC:\\Program Files (x86)\\Windows Kits\\10\\\\include\\10.0.22000.0\\\\cppwinrt\" /EHsc /Tpextensions/gdal_wrap.cpp /Fobuild\\temp.win-amd64-cpython-312\\Release\\extensions/gdal_wrap.obj\n",
      "      \"C:\\Program Files\\Microsoft Visual Studio\\2022\\Community\\VC\\Tools\\MSVC\\14.39.33519\\bin\\HostX86\\x64\\cl.exe\" /c /nologo /O2 /W3 /GL /DNDEBUG /MD -Ic:\\Users\\theno\\AppData\\Local\\Programs\\Python\\Python312\\include -Ic:\\Users\\theno\\AppData\\Local\\Programs\\Python\\Python312\\Include -Ic:\\Users\\theno\\AppData\\Local\\Programs\\Python\\Python312\\Lib\\site-packages\\numpy\\core\\include \"-IC:\\Program Files\\Microsoft Visual Studio\\2022\\Community\\VC\\Tools\\MSVC\\14.39.33519\\include\" \"-IC:\\Program Files\\Microsoft Visual Studio\\2022\\Community\\VC\\Auxiliary\\VS\\include\" \"-IC:\\Program Files (x86)\\Windows Kits\\10\\include\\10.0.22000.0\\ucrt\" \"-IC:\\Program Files (x86)\\Windows Kits\\10\\\\include\\10.0.22000.0\\\\um\" \"-IC:\\Program Files (x86)\\Windows Kits\\10\\\\include\\10.0.22000.0\\\\shared\" \"-IC:\\Program Files (x86)\\Windows Kits\\10\\\\include\\10.0.22000.0\\\\winrt\" \"-IC:\\Program Files (x86)\\Windows Kits\\10\\\\include\\10.0.22000.0\\\\cppwinrt\" /EHsc /Tpextensions/gnm_wrap.cpp /Fobuild\\temp.win-amd64-cpython-312\\Release\\extensions/gnm_wrap.obj\n",
      "      \"C:\\Program Files\\Microsoft Visual Studio\\2022\\Community\\VC\\Tools\\MSVC\\14.39.33519\\bin\\HostX86\\x64\\cl.exe\" /c /nologo /O2 /W3 /GL /DNDEBUG /MD -Ic:\\Users\\theno\\AppData\\Local\\Programs\\Python\\Python312\\include -Ic:\\Users\\theno\\AppData\\Local\\Programs\\Python\\Python312\\Include -Ic:\\Users\\theno\\AppData\\Local\\Programs\\Python\\Python312\\Lib\\site-packages\\numpy\\core\\include \"-IC:\\Program Files\\Microsoft Visual Studio\\2022\\Community\\VC\\Tools\\MSVC\\14.39.33519\\include\" \"-IC:\\Program Files\\Microsoft Visual Studio\\2022\\Community\\VC\\Auxiliary\\VS\\include\" \"-IC:\\Program Files (x86)\\Windows Kits\\10\\include\\10.0.22000.0\\ucrt\" \"-IC:\\Program Files (x86)\\Windows Kits\\10\\\\include\\10.0.22000.0\\\\um\" \"-IC:\\Program Files (x86)\\Windows Kits\\10\\\\include\\10.0.22000.0\\\\shared\" \"-IC:\\Program Files (x86)\\Windows Kits\\10\\\\include\\10.0.22000.0\\\\winrt\" \"-IC:\\Program Files (x86)\\Windows Kits\\10\\\\include\\10.0.22000.0\\\\cppwinrt\" /Tcextensions/gdalconst_wrap.c /Fobuild\\temp.win-amd64-cpython-312\\Release\\extensions/gdalconst_wrap.obj\n",
      "      \"C:\\Program Files\\Microsoft Visual Studio\\2022\\Community\\VC\\Tools\\MSVC\\14.39.33519\\bin\\HostX86\\x64\\cl.exe\" /c /nologo /O2 /W3 /GL /DNDEBUG /MD -Ic:\\Users\\theno\\AppData\\Local\\Programs\\Python\\Python312\\include -Ic:\\Users\\theno\\AppData\\Local\\Programs\\Python\\Python312\\Include -Ic:\\Users\\theno\\AppData\\Local\\Programs\\Python\\Python312\\Lib\\site-packages\\numpy\\core\\include \"-IC:\\Program Files\\Microsoft Visual Studio\\2022\\Community\\VC\\Tools\\MSVC\\14.39.33519\\include\" \"-IC:\\Program Files\\Microsoft Visual Studio\\2022\\Community\\VC\\Auxiliary\\VS\\include\" \"-IC:\\Program Files (x86)\\Windows Kits\\10\\include\\10.0.22000.0\\ucrt\" \"-IC:\\Program Files (x86)\\Windows Kits\\10\\\\include\\10.0.22000.0\\\\um\" \"-IC:\\Program Files (x86)\\Windows Kits\\10\\\\include\\10.0.22000.0\\\\shared\" \"-IC:\\Program Files (x86)\\Windows Kits\\10\\\\include\\10.0.22000.0\\\\winrt\" \"-IC:\\Program Files (x86)\\Windows Kits\\10\\\\include\\10.0.22000.0\\\\cppwinrt\" /EHsc /Tpextensions/osr_wrap.cpp /Fobuild\\temp.win-amd64-cpython-312\\Release\\extensions/osr_wrap.obj\n",
      "      \"C:\\Program Files\\Microsoft Visual Studio\\2022\\Community\\VC\\Tools\\MSVC\\14.39.33519\\bin\\HostX86\\x64\\cl.exe\" /c /nologo /O2 /W3 /GL /DNDEBUG /MD -Ic:\\Users\\theno\\AppData\\Local\\Programs\\Python\\Python312\\include -Ic:\\Users\\theno\\AppData\\Local\\Programs\\Python\\Python312\\Include -Ic:\\Users\\theno\\AppData\\Local\\Programs\\Python\\Python312\\Lib\\site-packages\\numpy\\core\\include \"-IC:\\Program Files\\Microsoft Visual Studio\\2022\\Community\\VC\\Tools\\MSVC\\14.39.33519\\include\" \"-IC:\\Program Files\\Microsoft Visual Studio\\2022\\Community\\VC\\Auxiliary\\VS\\include\" \"-IC:\\Program Files (x86)\\Windows Kits\\10\\include\\10.0.22000.0\\ucrt\" \"-IC:\\Program Files (x86)\\Windows Kits\\10\\\\include\\10.0.22000.0\\\\um\" \"-IC:\\Program Files (x86)\\Windows Kits\\10\\\\include\\10.0.22000.0\\\\shared\" \"-IC:\\Program Files (x86)\\Windows Kits\\10\\\\include\\10.0.22000.0\\\\winrt\" \"-IC:\\Program Files (x86)\\Windows Kits\\10\\\\include\\10.0.22000.0\\\\cppwinrt\" /EHsc /Tpextensions/ogr_wrap.cpp /Fobuild\\temp.win-amd64-cpython-312\\Release\\extensions/ogr_wrap.obj\n",
      "      gnm_wrap.cpp\n",
      "      gdalconst_wrap.c\n",
      "      gdal_array_wrap.cpp\n",
      "      gdal_wrap.cpp\n",
      "      osr_wrap.cpp\n",
      "      ogr_wrap.cpp\n",
      "      extensions/gdalconst_wrap.c(3013): fatal error C1083: Cannot open include file: 'gdal.h': No such file or directory\n",
      "      extensions/gdal_array_wrap.cpp(3167): fatal error C1083: Cannot open include file: 'gdal.h': No such file or directory\n",
      "      extensions/gnm_wrap.cpp(3153): fatal error C1083: Cannot open include file: 'gdal.h': No such file or directory\n",
      "      extensions/osr_wrap.cpp(3213): fatal error C1083: Cannot open include file: 'cpl_string.h': No such file or directory\n",
      "      extensions/ogr_wrap.cpp(3181): fatal error C1083: Cannot open include file: 'gdal.h': No such file or directory\n",
      "      extensions/gdal_wrap.cpp(3222): fatal error C1083: Cannot open include file: 'cpl_port.h': No such file or directory\n",
      "      error: command 'C:\\\\Program Files\\\\Microsoft Visual Studio\\\\2022\\\\Community\\\\VC\\\\Tools\\\\MSVC\\\\14.39.33519\\\\bin\\\\HostX86\\\\x64\\\\cl.exe' failed with exit code 2\n",
      "      [end of output]\n",
      "  \n",
      "  note: This error originates from a subprocess, and is likely not a problem with pip.\n",
      "  ERROR: Failed building wheel for GDAL\n",
      "ERROR: Could not build wheels for GDAL, which is required to install pyproject.toml-based projects\n"
     ]
    }
   ],
   "source": [
    "pip install GDAL"
   ]
  },
  {
   "cell_type": "code",
   "execution_count": 16,
   "metadata": {},
   "outputs": [
    {
     "ename": "ImportError",
     "evalue": "GDAL is not installed. Install it with pip install GDAL",
     "output_type": "error",
     "traceback": [
      "\u001b[1;31m---------------------------------------------------------------------------\u001b[0m",
      "\u001b[1;31mModuleNotFoundError\u001b[0m                       Traceback (most recent call last)",
      "File \u001b[1;32mc:\\Users\\theno\\AppData\\Local\\Programs\\Python\\Python312\\Lib\\site-packages\\samgeo\\common.py:419\u001b[0m, in \u001b[0;36mtms_to_geotiff\u001b[1;34m(output, bbox, zoom, resolution, source, crs, to_cog, return_image, overwrite, quiet, **kwargs)\u001b[0m\n\u001b[0;32m    418\u001b[0m \u001b[38;5;28;01mtry\u001b[39;00m:\n\u001b[1;32m--> 419\u001b[0m     \u001b[38;5;28;01mfrom\u001b[39;00m \u001b[38;5;21;01mosgeo\u001b[39;00m \u001b[38;5;28;01mimport\u001b[39;00m gdal, osr\n\u001b[0;32m    420\u001b[0m \u001b[38;5;28;01mexcept\u001b[39;00m \u001b[38;5;167;01mImportError\u001b[39;00m:\n",
      "\u001b[1;31mModuleNotFoundError\u001b[0m: No module named 'osgeo'",
      "\nDuring handling of the above exception, another exception occurred:\n",
      "\u001b[1;31mImportError\u001b[0m                               Traceback (most recent call last)",
      "Cell \u001b[1;32mIn[16], line 2\u001b[0m\n\u001b[0;32m      1\u001b[0m image \u001b[38;5;241m=\u001b[39m \u001b[38;5;124m\"\u001b[39m\u001b[38;5;124msatellite.tif\u001b[39m\u001b[38;5;124m\"\u001b[39m\n\u001b[1;32m----> 2\u001b[0m \u001b[43mtms_to_geotiff\u001b[49m\u001b[43m(\u001b[49m\u001b[43moutput\u001b[49m\u001b[38;5;241;43m=\u001b[39;49m\u001b[43mimage\u001b[49m\u001b[43m,\u001b[49m\u001b[43m \u001b[49m\u001b[43mbbox\u001b[49m\u001b[38;5;241;43m=\u001b[39;49m\u001b[43mbbox\u001b[49m\u001b[43m,\u001b[49m\u001b[43m \u001b[49m\u001b[43mzoom\u001b[49m\u001b[38;5;241;43m=\u001b[39;49m\u001b[38;5;241;43m17\u001b[39;49m\u001b[43m,\u001b[49m\u001b[43m \u001b[49m\u001b[43msource\u001b[49m\u001b[38;5;241;43m=\u001b[39;49m\u001b[38;5;124;43m\"\u001b[39;49m\u001b[38;5;124;43mSatellite\u001b[39;49m\u001b[38;5;124;43m\"\u001b[39;49m\u001b[43m,\u001b[49m\u001b[43m \u001b[49m\u001b[43moverwrite\u001b[49m\u001b[38;5;241;43m=\u001b[39;49m\u001b[38;5;28;43;01mTrue\u001b[39;49;00m\u001b[43m)\u001b[49m\n",
      "File \u001b[1;32mc:\\Users\\theno\\AppData\\Local\\Programs\\Python\\Python312\\Lib\\site-packages\\samgeo\\common.py:421\u001b[0m, in \u001b[0;36mtms_to_geotiff\u001b[1;34m(output, bbox, zoom, resolution, source, crs, to_cog, return_image, overwrite, quiet, **kwargs)\u001b[0m\n\u001b[0;32m    419\u001b[0m     \u001b[38;5;28;01mfrom\u001b[39;00m \u001b[38;5;21;01mosgeo\u001b[39;00m \u001b[38;5;28;01mimport\u001b[39;00m gdal, osr\n\u001b[0;32m    420\u001b[0m \u001b[38;5;28;01mexcept\u001b[39;00m \u001b[38;5;167;01mImportError\u001b[39;00m:\n\u001b[1;32m--> 421\u001b[0m     \u001b[38;5;28;01mraise\u001b[39;00m \u001b[38;5;167;01mImportError\u001b[39;00m(\u001b[38;5;124m\"\u001b[39m\u001b[38;5;124mGDAL is not installed. Install it with pip install GDAL\u001b[39m\u001b[38;5;124m\"\u001b[39m)\n\u001b[0;32m    423\u001b[0m \u001b[38;5;28;01mtry\u001b[39;00m:\n\u001b[0;32m    424\u001b[0m     \u001b[38;5;28;01mimport\u001b[39;00m \u001b[38;5;21;01mhttpx\u001b[39;00m\n",
      "\u001b[1;31mImportError\u001b[0m: GDAL is not installed. Install it with pip install GDAL"
     ]
    }
   ],
   "source": [
    "image = \"satellite.tif\"\n",
    "tms_to_geotiff(output=image, bbox=bbox, zoom=17, source=\"Satellite\", overwrite=True)"
   ]
  }
 ],
 "metadata": {
  "kernelspec": {
   "display_name": "Python 3.12.2 64-bit",
   "language": "python",
   "name": "python3"
  },
  "language_info": {
   "codemirror_mode": {
    "name": "ipython",
    "version": 3
   },
   "file_extension": ".py",
   "mimetype": "text/x-python",
   "name": "python",
   "nbconvert_exporter": "python",
   "pygments_lexer": "ipython3",
   "version": "3.12.2"
  },
  "orig_nbformat": 4,
  "vscode": {
   "interpreter": {
    "hash": "b0fa6594d8f4cbf19f97940f81e996739fb7646882a419484c72d19e05852a7e"
   }
  }
 },
 "nbformat": 4,
 "nbformat_minor": 2
}
